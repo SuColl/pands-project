{
 "cells": [
  {
   "cell_type": "markdown",
   "id": "945ffd28",
   "metadata": {},
   "source": [
    "# Comments, Notes, Sources for analysis.py"
   ]
  },
  {
   "cell_type": "markdown",
   "id": "5b5be712",
   "metadata": {},
   "source": [
    "## (1) Downloading and reading-in the dataset\n",
    "\n",
    "- Data downloaded from [URL provided by Andrew](https://archive.ics.uci.edu/dataset/53/iris)\n",
    "- Read into Pandas DataFrame following this [example](https://www.angela1c.com/projects/iris_project/downloading-iris/). [Documentation for pandas.read_csv](https://pandas.pydata.org/docs/reference/api/pandas.read_csv.html#pandas.read_csv)"
   ]
  },
  {
   "cell_type": "code",
   "execution_count": 10,
   "id": "aace7fda",
   "metadata": {},
   "outputs": [
    {
     "name": "stdout",
     "output_type": "stream",
     "text": [
      "   sepal_length  sepal_width  petal_length  petal_width      species\n",
      "0           5.1          3.5           1.4          0.2  Iris-setosa\n",
      "1           4.9          3.0           1.4          0.2  Iris-setosa\n",
      "2           4.7          3.2           1.3          0.2  Iris-setosa\n",
      "3           4.6          3.1           1.5          0.2  Iris-setosa\n",
      "4           5.0          3.6           1.4          0.2  Iris-setosa\n"
     ]
    },
    {
     "data": {
      "text/plain": [
       "sepal_length            4.9\n",
       "sepal_width             3.1\n",
       "petal_length            1.5\n",
       "petal_width             0.1\n",
       "species         Iris-setosa\n",
       "Name: 37, dtype: object"
      ]
     },
     "execution_count": 10,
     "metadata": {},
     "output_type": "execute_result"
    }
   ],
   "source": [
    "# Library to allow file-handling\n",
    "import sys\n",
    "# Library for data analysis\n",
    "import pandas as pd\n",
    "\n",
    "# variable to hold Iris data filename\n",
    "FILENAME = \"iris.data\"\n",
    "\n",
    "with open (FILENAME, 'rt') as iris_file:\n",
    "\n",
    "    # Create Pandas DataFrame from the iris data file\n",
    "    iris = pd.read_csv(\n",
    "        iris_file, \n",
    "        names=[\n",
    "            \"sepal_length\", \n",
    "            \"sepal_width\", \n",
    "            \"petal_length\", \n",
    "            \"petal_width\", \n",
    "            \"species\"])\n",
    "    \n",
    "# print out dataframe\n",
    "print(iris.head())\n",
    "\n",
    "iris.loc[37]"
   ]
  },
  {
   "cell_type": "markdown",
   "id": "1b7d22b1",
   "metadata": {},
   "source": []
  },
  {
   "cell_type": "markdown",
   "id": "5183aed5",
   "metadata": {},
   "source": []
  }
 ],
 "metadata": {
  "kernelspec": {
   "display_name": "base",
   "language": "python",
   "name": "python3"
  },
  "language_info": {
   "codemirror_mode": {
    "name": "ipython",
    "version": 3
   },
   "file_extension": ".py",
   "mimetype": "text/x-python",
   "name": "python",
   "nbconvert_exporter": "python",
   "pygments_lexer": "ipython3",
   "version": "3.12.7"
  }
 },
 "nbformat": 4,
 "nbformat_minor": 5
}
