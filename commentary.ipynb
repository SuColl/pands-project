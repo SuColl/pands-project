{
 "cells": [
  {
   "cell_type": "markdown",
   "id": "945ffd28",
   "metadata": {},
   "source": [
    "# Investigating a Data Set using Python - a worked example\n",
    "\n",
    "This notebook accompanies the program `analysis.py`, which performs exploratory data analysis, and creates plots, using the Fisher Iris data set. The code in this program is broken down here, with added comments, notes, and sources."
   ]
  },
  {
   "cell_type": "markdown",
   "id": "439abc2f",
   "metadata": {},
   "source": [
    "## Part 1 - Libraries Used\n",
    "A number of Python libraries are included here to provide useful functions and tools.\n",
    "- The [sys](https://docs.python.org/3/library/sys.html) library provides functions and variables that allow us to interact with the program's enviroment. For this program, it allows us to read files and write to them.\n",
    "\n",
    "- The [pandas](https://pandas.pydata.org/docs/index.html) library contains tools made specifically for data analysis and manipulation. Including it allows us to put our data into a Pandas DataFrame, which allows for easy data access, manupulation, and passing to plotting functions. \n",
    "\n",
    "- The [matplotlib](https://matplotlib.org) library contains tools to create plots and other data visualisations. This program uses the [Pyplot](https://matplotlib.org/stable/tutorials/pyplot.html) part of Matplotlib.\n",
    "\n",
    "- The [seaborn](https://seaborn.pydata.org/) library is built on Matplotlib and extends its capabilities to create informative plots. Seaborn works particularly well with data stored in a Pandas DataFrame object."
   ]
  },
  {
   "cell_type": "code",
   "execution_count": 5,
   "id": "f231afb1",
   "metadata": {},
   "outputs": [],
   "source": [
    "# Library to allow file-handling\n",
    "import sys\n",
    "# Library for data analysis\n",
    "import pandas as pd\n",
    "# Libraries for plotting\n",
    "import matplotlib.pyplot as plt\n",
    "import seaborn as sns"
   ]
  },
  {
   "cell_type": "markdown",
   "id": "5b5be712",
   "metadata": {},
   "source": [
    "## (2) Downloading and reading-in the dataset\n",
    "\n",
    "- Data downloaded from [URL provided by Andrew](https://archive.ics.uci.edu/dataset/53/iris).\n",
    "- There are two sets of data: `iris.data` and `bezdekiris.data`. According to [Bezdek et. all (1999)](https://doi.org/10.1109%2F91.771092) the original UCI `iris.data` contains two data points that are inaccurate when compared to Fisher's 1936 data. After inspection, I determined that `bezdekiris.data` contains the corrected data, so this is the dataset I will use.\n",
    "- Read into Pandas DataFrame following this [example](https://www.angela1c.com/projects/iris_project/downloading-iris/). [Documentation for pandas.read_csv](https://pandas.pydata.org/docs/reference/api/pandas.read_csv.html#pandas.read_csv)"
   ]
  },
  {
   "cell_type": "code",
   "execution_count": null,
   "id": "aace7fda",
   "metadata": {},
   "outputs": [
    {
     "name": "stdout",
     "output_type": "stream",
     "text": [
      "   sepal length  sepal width  petal length  petal width      species\n",
      "0           5.1          3.5           1.4          0.2  Iris-setosa\n",
      "1           4.9          3.0           1.4          0.2  Iris-setosa\n",
      "2           4.7          3.2           1.3          0.2  Iris-setosa\n",
      "3           4.6          3.1           1.5          0.2  Iris-setosa\n",
      "4           5.0          3.6           1.4          0.2  Iris-setosa\n"
     ]
    }
   ],
   "source": [
    "# variable to hold Iris data filename\n",
    "FILENAME = \"bezdekiris.data\"\n",
    "\n",
    "# List of features (columns) in the data\n",
    "feature_names = [\"sepal length\", \"sepal width\", \"petal length\", \"petal width\"]\n",
    "\n",
    "with open (FILENAME, 'rt') as iris_file:\n",
    "\n",
    "    # Create Pandas DataFrame from the iris data file.\n",
    "    # Add column names manually as they are not present in the iris.data file.\n",
    "    iris = pd.read_csv(\n",
    "        iris_file, \n",
    "        names=feature_names + [\"species\"]\n",
    "        )\n",
    "    \n",
    "# print out first 5 lines of dataframe\n",
    "print(iris.head())"
   ]
  },
  {
   "cell_type": "markdown",
   "id": "deb7b0f5",
   "metadata": {},
   "source": [
    "## (3.1) Output a summary of each variable to a single text file\n",
    "Now that the dataset is in Pandas DataFrame format, can get statistics of each feature in the data using `pandas.DataFrame.describe()` method [[Documentation for pandas.DataFrame.describe](https://pandas.pydata.org/docs/reference/api/pandas.DataFrame.describe.html#pandas.DataFrame.describe)]"
   ]
  },
  {
   "cell_type": "code",
   "execution_count": 4,
   "id": "620ea0ae",
   "metadata": {},
   "outputs": [
    {
     "data": {
      "text/html": [
       "<div>\n",
       "<style scoped>\n",
       "    .dataframe tbody tr th:only-of-type {\n",
       "        vertical-align: middle;\n",
       "    }\n",
       "\n",
       "    .dataframe tbody tr th {\n",
       "        vertical-align: top;\n",
       "    }\n",
       "\n",
       "    .dataframe thead th {\n",
       "        text-align: right;\n",
       "    }\n",
       "</style>\n",
       "<table border=\"1\" class=\"dataframe\">\n",
       "  <thead>\n",
       "    <tr style=\"text-align: right;\">\n",
       "      <th></th>\n",
       "      <th>sepal_length</th>\n",
       "      <th>sepal_width</th>\n",
       "      <th>petal_length</th>\n",
       "      <th>petal_width</th>\n",
       "    </tr>\n",
       "  </thead>\n",
       "  <tbody>\n",
       "    <tr>\n",
       "      <th>count</th>\n",
       "      <td>150.000000</td>\n",
       "      <td>150.000000</td>\n",
       "      <td>150.000000</td>\n",
       "      <td>150.000000</td>\n",
       "    </tr>\n",
       "    <tr>\n",
       "      <th>mean</th>\n",
       "      <td>5.843333</td>\n",
       "      <td>3.057333</td>\n",
       "      <td>3.758000</td>\n",
       "      <td>1.199333</td>\n",
       "    </tr>\n",
       "    <tr>\n",
       "      <th>std</th>\n",
       "      <td>0.828066</td>\n",
       "      <td>0.435866</td>\n",
       "      <td>1.765298</td>\n",
       "      <td>0.762238</td>\n",
       "    </tr>\n",
       "    <tr>\n",
       "      <th>min</th>\n",
       "      <td>4.300000</td>\n",
       "      <td>2.000000</td>\n",
       "      <td>1.000000</td>\n",
       "      <td>0.100000</td>\n",
       "    </tr>\n",
       "    <tr>\n",
       "      <th>25%</th>\n",
       "      <td>5.100000</td>\n",
       "      <td>2.800000</td>\n",
       "      <td>1.600000</td>\n",
       "      <td>0.300000</td>\n",
       "    </tr>\n",
       "    <tr>\n",
       "      <th>50%</th>\n",
       "      <td>5.800000</td>\n",
       "      <td>3.000000</td>\n",
       "      <td>4.350000</td>\n",
       "      <td>1.300000</td>\n",
       "    </tr>\n",
       "    <tr>\n",
       "      <th>75%</th>\n",
       "      <td>6.400000</td>\n",
       "      <td>3.300000</td>\n",
       "      <td>5.100000</td>\n",
       "      <td>1.800000</td>\n",
       "    </tr>\n",
       "    <tr>\n",
       "      <th>max</th>\n",
       "      <td>7.900000</td>\n",
       "      <td>4.400000</td>\n",
       "      <td>6.900000</td>\n",
       "      <td>2.500000</td>\n",
       "    </tr>\n",
       "  </tbody>\n",
       "</table>\n",
       "</div>"
      ],
      "text/plain": [
       "       sepal_length  sepal_width  petal_length  petal_width\n",
       "count    150.000000   150.000000    150.000000   150.000000\n",
       "mean       5.843333     3.057333      3.758000     1.199333\n",
       "std        0.828066     0.435866      1.765298     0.762238\n",
       "min        4.300000     2.000000      1.000000     0.100000\n",
       "25%        5.100000     2.800000      1.600000     0.300000\n",
       "50%        5.800000     3.000000      4.350000     1.300000\n",
       "75%        6.400000     3.300000      5.100000     1.800000\n",
       "max        7.900000     4.400000      6.900000     2.500000"
      ]
     },
     "execution_count": 4,
     "metadata": {},
     "output_type": "execute_result"
    }
   ],
   "source": [
    "iris.describe()\n"
   ]
  },
  {
   "cell_type": "markdown",
   "id": "1b7d22b1",
   "metadata": {},
   "source": [
    "## (3.2) Save a histogram of each variable to png files\n",
    "- Created a single plot comprising four subplots, using [matplotlib.pyplot.subplot](https://matplotlib.org/stable/api/_as_gen/matplotlib.pyplot.subplots.html)\n",
    "- Uses [Seaborn.histplot](https://seaborn.pydata.org/generated/seaborn.histplot.html) to plot each histogram\n",
    "- Specified the 'species' attribute to be used to separate the histograms by species, and colour-code them\n"
   ]
  },
  {
   "cell_type": "markdown",
   "id": "5183aed5",
   "metadata": {},
   "source": []
  },
  {
   "cell_type": "markdown",
   "id": "f1985600",
   "metadata": {},
   "source": []
  },
  {
   "cell_type": "markdown",
   "id": "87215a55",
   "metadata": {},
   "source": []
  },
  {
   "cell_type": "markdown",
   "id": "900eabe1",
   "metadata": {},
   "source": []
  },
  {
   "cell_type": "markdown",
   "id": "71e7ea24",
   "metadata": {},
   "source": []
  }
 ],
 "metadata": {
  "kernelspec": {
   "display_name": "base",
   "language": "python",
   "name": "python3"
  },
  "language_info": {
   "codemirror_mode": {
    "name": "ipython",
    "version": 3
   },
   "file_extension": ".py",
   "mimetype": "text/x-python",
   "name": "python",
   "nbconvert_exporter": "python",
   "pygments_lexer": "ipython3",
   "version": "3.12.7"
  }
 },
 "nbformat": 4,
 "nbformat_minor": 5
}
